{
  "nbformat": 4,
  "nbformat_minor": 0,
  "metadata": {
    "colab": {
      "provenance": []
    },
    "kernelspec": {
      "name": "python3",
      "display_name": "Python 3"
    },
    "language_info": {
      "name": "python"
    }
  },
  "cells": [
    {
      "cell_type": "code",
      "execution_count": 1,
      "metadata": {
        "colab": {
          "base_uri": "https://localhost:8080/"
        },
        "id": "J-Ihc_ES_FJP",
        "outputId": "bd593693-75e6-4744-c951-01228e3c20b5"
      },
      "outputs": [
        {
          "output_type": "execute_result",
          "data": {
            "text/plain": [
              "1"
            ]
          },
          "metadata": {},
          "execution_count": 1
        }
      ],
      "source": [
        "#02-04 튜플 자료형 -> t2 = (1,)처럼 단지 1개의 요소만을 가질 때는 요소 뒤에 쉼표(,)를 반드시 붙여야 한다는 것과 t4 = 1, 2, 3처럼 소괄호(())를 생략해도 된다는 점\n",
        "t1 = 1, 2, 'a', 'b'\n",
        "t1[0]\n",
        "# 튜플은 요솟값 변경불가능, del, sort 이런거 불가능"
      ]
    },
    {
      "cell_type": "code",
      "source": [
        "#02-05 딕서너리 자료형 key : value\n",
        "a = {'1' : 'a'}\n",
        "a[32] = 'b'\n",
        "del a['1']\n",
        "a[32]\n",
        "b = {'name': 'pey', 'phone': '010-9999-1234', 'birth': '1118'}\n",
        "b.keys()\n",
        "for k in b.keys():\n",
        "  print(k)\n",
        "\n",
        "list(b.keys())\n",
        "b.values()\n",
        "\n",
        "b.items() # key, value 둘다 얻을 땐 item\n",
        "b.clear() # 쌍 모두 지우기\n",
        "c = {'name': 'pey', 'phone': '010-9999-1234', 'birth': '1118'}\n",
        "c.get('name')\n",
        "c.get('acv', 'foo') # get(x, '디폴트값') -> x가 없으면 디폴트 값 출력\n",
        "'name' in c # 'name' 있는지 없는지 참 거짓으로 확인"
      ],
      "metadata": {
        "colab": {
          "base_uri": "https://localhost:8080/"
        },
        "id": "C06SLpTRB8XF",
        "outputId": "ea194121-85a2-47ca-9b7c-f4ea1299c68a"
      },
      "execution_count": 29,
      "outputs": [
        {
          "output_type": "stream",
          "name": "stdout",
          "text": [
            "name\n",
            "phone\n",
            "birth\n"
          ]
        },
        {
          "output_type": "execute_result",
          "data": {
            "text/plain": [
              "True"
            ]
          },
          "metadata": {},
          "execution_count": 29
        }
      ]
    },
    {
      "cell_type": "code",
      "source": [
        "#02-06 집합 자료형 # 중복 허용 x, 순서 x set 자료형은 교, 합, 차집합 구할때\n",
        "s1 = set(\"HELLO\")\n",
        "s1\n",
        "l1 = list(s1)\n",
        "l1\n",
        "a1 = set([1, 2, 3, 4, 5, 6])\n",
        "b1 = set([4, 5, 6, 7, 8, 9])\n",
        "a1 & b1 # 교집합\n",
        "a1.intersection(b1) # 교집합\n",
        "a1 | b1 # 합집합\n",
        "a1.union(b1) # 합집합\n",
        "a1 - b1 #차집합\n",
        "a1.difference(b1) #차집합\n",
        "c1 = set([1, 2, 3])\n",
        "c1.add(4) # 값 1개 추가\n",
        "c1\n",
        "c1.update([5, 6, 7]) # 값 여러개 추가\n",
        "c1\n",
        "c1.remove(2) # 값 제거\n",
        "c1"
      ],
      "metadata": {
        "colab": {
          "base_uri": "https://localhost:8080/"
        },
        "id": "qam0Y4noKNjM",
        "outputId": "db381db6-7828-4528-fe07-900eccf8b7b9"
      },
      "execution_count": 41,
      "outputs": [
        {
          "output_type": "execute_result",
          "data": {
            "text/plain": [
              "{1, 3, 4, 5, 6, 7}"
            ]
          },
          "metadata": {},
          "execution_count": 41
        }
      ]
    },
    {
      "cell_type": "markdown",
      "source": [
        "# 정리\n",
        "##### 튜플은 요솟값 변경 불가, 괄호 생략가능\n",
        "##### 딕서너리 key : value\n",
        "#####b.items() # key, value 둘다 얻을 땐 item\n",
        "#####b.clear() # 쌍 모두 지우기\n",
        "#####list.(b.key()) # 리스트로 변경\n",
        "#####c.get('acv', 'foo') # get(x, '디폴트값') -> x가 없으면 디폴트 값 출력\n",
        "#####'name' in c # 'name' 있는지 없는지 참 거짓으로 확인\n",
        "#####a1 & b1 # 교집합\n",
        "#####a1.intersection(b1) # 교집합\n",
        "#####a1 | b1 # 합집합\n",
        "#####a1.union(b1) # 합집합\n",
        "#####a1 - b1 #차집합\n",
        "#####a1.difference(b1) #차집합\n",
        "#####c1 = set([1, 2, 3])\n",
        "#####c1.add(4) # 값 1개 추가\n",
        "\n",
        "#####c1.update([5, 6, 7]) # 값 여러개 추가\n",
        "\n",
        "#####c1.remove(2) # 값 제거\n"
      ],
      "metadata": {
        "id": "bSTOytEPOO3z"
      }
    }
  ]
}