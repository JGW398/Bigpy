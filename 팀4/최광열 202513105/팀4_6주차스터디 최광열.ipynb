{
  "cells": [
    {
      "cell_type": "markdown",
      "id": "14127ce0",
      "metadata": {
        "id": "14127ce0"
      },
      "source": [
        "### 문제 1. sympy를 설치하는 코드와 불러오는 코드를 모두 아래 블록에 작성하시오."
      ]
    },
    {
      "cell_type": "code",
      "execution_count": 4,
      "id": "7951fc9c",
      "metadata": {
        "colab": {
          "base_uri": "https://localhost:8080/"
        },
        "id": "7951fc9c",
        "outputId": "7176cc67-5f1f-46e2-a2d8-a71c5d3fa71a"
      },
      "outputs": [
        {
          "output_type": "stream",
          "name": "stdout",
          "text": [
            "Requirement already satisfied: sympy in /usr/local/lib/python3.11/dist-packages (1.13.1)\n",
            "Requirement already satisfied: mpmath<1.4,>=1.1.0 in /usr/local/lib/python3.11/dist-packages (from sympy) (1.3.0)\n"
          ]
        }
      ],
      "source": [
        "!pip install sympy\n",
        "import sympy"
      ]
    },
    {
      "cell_type": "markdown",
      "id": "afd6135a",
      "metadata": {
        "id": "afd6135a"
      },
      "source": [
        "### 문제 2. sympy 라이브러리를 사용하여 다음 문제를 해결하시오.\n",
        "시윤이는 가진 돈의 5분의 2로 학용품을 샀다고 한다. 이때 학용품을 사는 데 쓴 돈이 1,760원일 때 남은 돈을 구하시오."
      ]
    },
    {
      "cell_type": "code",
      "execution_count": 10,
      "id": "001e6983",
      "metadata": {
        "colab": {
          "base_uri": "https://localhost:8080/"
        },
        "id": "001e6983",
        "outputId": "ed610bef-bb75-4ab4-9e23-247cdb18083c"
      },
      "outputs": [
        {
          "output_type": "stream",
          "name": "stdout",
          "text": [
            "2640\n"
          ]
        }
      ],
      "source": [
        "from fractions import Fraction\n",
        "import sympy\n",
        "x = sympy.symbols(\"x\")\n",
        "f = sympy.Eq(x*Fraction('2/5'), 1760)\n",
        "result = sympy.solve(f)\n",
        "remains =result[0]- 1760\n",
        "print(remains)"
      ]
    },
    {
      "cell_type": "markdown",
      "id": "d2091461",
      "metadata": {
        "id": "d2091461"
      },
      "source": [
        "### 문제 3. sympy 라이브러리를 사용하여 다음 문제를 해결하시오.\n",
        "x <sup>3</sup> = 6에서 x의 값을 구하시오."
      ]
    },
    {
      "cell_type": "code",
      "execution_count": 11,
      "id": "c7f8e862",
      "metadata": {
        "colab": {
          "base_uri": "https://localhost:8080/"
        },
        "id": "c7f8e862",
        "outputId": "33c93141-6022-47c5-b812-f96f90181b71"
      },
      "outputs": [
        {
          "output_type": "execute_result",
          "data": {
            "text/plain": [
              "[6**(1/3),\n",
              " -6**(1/3)/2 - 2**(1/3)*3**(5/6)*I/2,\n",
              " -6**(1/3)/2 + 2**(1/3)*3**(5/6)*I/2]"
            ]
          },
          "metadata": {},
          "execution_count": 11
        }
      ],
      "source": [
        "import sympy\n",
        "x = sympy.symbols(\"x\")\n",
        "f = sympy.Eq(x**3, 6)\n",
        "sympy.solve(f)"
      ]
    },
    {
      "cell_type": "markdown",
      "id": "ebc130a8",
      "metadata": {
        "id": "ebc130a8"
      },
      "source": [
        "### 문제 4. 다음 문제를 해결하시오.\n",
        "한 카페에서는 음료를 10잔 사면 1잔을 무료로 제공하는 적립 쿠폰 시스템을 운영 중이다. 총 음료 구매 개수가 주어졌을 때, 몇 잔의 무료 음료를 받을 수 있는지 계산하는 코드를 작성하시오.\n",
        "\n",
        "**예시 <Br>**\n",
        "총 음료 구매 개수: 3잔 ➡ 무료 음료 제공: 0잔 <br>\n",
        "총 음료 구매 개수: 11잔 ➡ 무료 음료 제공: 1잔<Br>\n",
        "총 음료 구매 개수: 43잔 ➡ 무료 음료 제공: 4잔"
      ]
    },
    {
      "cell_type": "code",
      "execution_count": 32,
      "id": "12ee2b10",
      "metadata": {
        "colab": {
          "base_uri": "https://localhost:8080/"
        },
        "id": "12ee2b10",
        "outputId": "37a2ef4d-b884-46eb-d5d2-ebfd3c4e4c60"
      },
      "outputs": [
        {
          "output_type": "stream",
          "name": "stdout",
          "text": [
            "55\n",
            "5\n"
          ]
        }
      ],
      "source": [
        "def div(a,b):\n",
        "  return a//b\n",
        "j=int(input())\n",
        "print(div(j,10))"
      ]
    },
    {
      "cell_type": "markdown",
      "id": "a83d7605",
      "metadata": {
        "id": "a83d7605"
      },
      "source": [
        "### 문제 5. 다음 문제를 해결하시오.\n",
        "근무시간과 시급을 입력받아 시급을 계산하는 프로그램을 작성하시오.\n",
        "\n",
        "**조건 <Br>**\n",
        "1. 근무시간이 8시간을 초과한 시간부터는 시급의 1.5배를 적용한다.\n",
        "2. 근무시간과 시급을 입력받아 그에 맞는 1일치 일당을 출력하도록 한다."
      ]
    },
    {
      "cell_type": "code",
      "execution_count": 33,
      "id": "f855087d",
      "metadata": {
        "colab": {
          "base_uri": "https://localhost:8080/"
        },
        "id": "f855087d",
        "outputId": "ef9e5e87-e262-40d9-ce0c-fdea3dbb41d7"
      },
      "outputs": [
        {
          "output_type": "stream",
          "name": "stdout",
          "text": [
            "24\n",
            "1000\n",
            "32000.0\n"
          ]
        }
      ],
      "source": [
        "def d (a, b):\n",
        "  return 8*b+(a-8)*b*1.5\n",
        "a=int(input())\n",
        "b=int(input())\n",
        "print(d(a,b))"
      ]
    },
    {
      "cell_type": "markdown",
      "id": "d4458873",
      "metadata": {
        "id": "d4458873"
      },
      "source": [
        "### 문제 6. 다음 문제를 해결하시오.\n",
        "1,000원 이상을 결제하면 소비 복권을 제공하는 이벤트를 운영하고 있다. 1천 원 미만 결제 시에는 사탕을 제공하며 소비 복권은 제공하지 않는다. 소비 복권을 긁으면 0원(꽝)~10만 원 사이의 금액이 무작위로 나온다.\n",
        "\n",
        "**조건 <Br>**\n",
        "1. random 라이브러리를 사용할 것\n",
        "2. 결제 금액을 입력받도록 한다.<br>\n",
        "2-1. 결제 금액이 1천 원 미만이면 \"사탕을 드립니다!\"라고 출력한다.<br>\n",
        "2-2. 결제 금액이 1천 원 이상이면 소비 복권을 한 장 지급하고 0원~10만원 사이의 무작위 금액을 출력하도록 한다."
      ]
    },
    {
      "cell_type": "code",
      "execution_count": 41,
      "id": "e6e027b5",
      "metadata": {
        "colab": {
          "base_uri": "https://localhost:8080/"
        },
        "id": "e6e027b5",
        "outputId": "5bad5e7e-3fed-43fc-9488-fa9015df4113"
      },
      "outputs": [
        {
          "output_type": "stream",
          "name": "stdout",
          "text": [
            "10000\n",
            "73841\n"
          ]
        }
      ],
      "source": [
        "import random\n",
        "a=int(input())\n",
        "def f (a):\n",
        "  random.randint(0,100000)\n",
        "  if a<1000:\n",
        "    print(\"사탕을 드립니다!\")\n",
        "  else:\n",
        "    print(random.randint(0,100000))\n",
        "f(a)"
      ]
    },
    {
      "cell_type": "markdown",
      "id": "c60b12bc",
      "metadata": {
        "id": "c60b12bc"
      },
      "source": [
        "### 문제 7. 다음 문제를 해결하시오.\n",
        "오늘 날짜가 주말인지 평일인지 판별하시오. datetime 라이브러리를 이용할 것."
      ]
    },
    {
      "cell_type": "code",
      "execution_count": 51,
      "id": "cd492e02",
      "metadata": {
        "colab": {
          "base_uri": "https://localhost:8080/"
        },
        "id": "cd492e02",
        "outputId": "729cfef3-a207-413f-e20b-e6d71e914ca9"
      },
      "outputs": [
        {
          "output_type": "stream",
          "name": "stdout",
          "text": [
            "평일\n"
          ]
        }
      ],
      "source": [
        "import datetime\n",
        "day = datetime.date.today()\n",
        "day.weekday()\n",
        "if day.weekday()>=6:\n",
        "  print('주말')\n",
        "else:\n",
        "  print('평일')"
      ]
    }
  ],
  "metadata": {
    "kernelspec": {
      "display_name": "Python 3",
      "language": "python",
      "name": "python3"
    },
    "language_info": {
      "codemirror_mode": {
        "name": "ipython",
        "version": 3
      },
      "file_extension": ".py",
      "mimetype": "text/x-python",
      "name": "python",
      "nbconvert_exporter": "python",
      "pygments_lexer": "ipython3",
      "version": "3.11.2"
    },
    "colab": {
      "provenance": []
    }
  },
  "nbformat": 4,
  "nbformat_minor": 5
}