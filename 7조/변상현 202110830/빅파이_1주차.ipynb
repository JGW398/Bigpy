{
  "nbformat": 4,
  "nbformat_minor": 0,
  "metadata": {
    "colab": {
      "provenance": []
    },
    "kernelspec": {
      "name": "python3",
      "display_name": "Python 3"
    },
    "language_info": {
      "name": "python"
    }
  },
  "cells": [
    {
      "cell_type": "code",
      "execution_count": null,
      "metadata": {
        "colab": {
          "base_uri": "https://localhost:8080/"
        },
        "id": "dyezRgZQfhIa",
        "outputId": "6e779dcb-688a-4ca8-8689-261ad92d774f"
      },
      "outputs": [
        {
          "output_type": "stream",
          "name": "stdout",
          "text": [
            "127\n",
            "2748\n"
          ]
        }
      ],
      "source": [
        "a = 0o177 #8진수 0o\n",
        "print(a)\n",
        "b = 0xABC # 16진수 0x\n",
        "print(b)"
      ]
    },
    {
      "cell_type": "code",
      "source": [
        "a = 3\n",
        "b = 4\n",
        "print(a + b)\n",
        "print(a - b)\n",
        "print( a * b)\n",
        "print(a / b)\n",
        "print(a**b) # 제곱\n",
        "print(b%a) # 나머지\n",
        "print(b//a) # 몫"
      ],
      "metadata": {
        "colab": {
          "base_uri": "https://localhost:8080/"
        },
        "id": "mXuIcvoLS4MK",
        "outputId": "c8191559-cfef-4ae0-eab4-d8abcf0ae72c"
      },
      "execution_count": null,
      "outputs": [
        {
          "output_type": "stream",
          "name": "stdout",
          "text": [
            "7\n",
            "-1\n",
            "12\n",
            "0.75\n",
            "81\n",
            "1\n",
            "1\n"
          ]
        }
      ]
    },
    {
      "cell_type": "code",
      "source": [
        "a +=1 # a = a + 1\n",
        "a -=1 # a = a - 1\n",
        "print(a)"
      ],
      "metadata": {
        "colab": {
          "base_uri": "https://localhost:8080/"
        },
        "id": "TvC2DDnmTrSM",
        "outputId": "cf1859da-8d53-4efa-83b7-27c8e64229f1"
      },
      "execution_count": null,
      "outputs": [
        {
          "output_type": "stream",
          "name": "stdout",
          "text": [
            "1\n"
          ]
        }
      ]
    },
    {
      "cell_type": "code",
      "source": [
        "food = \"Python's favorite food is perl\" # \" > '\n",
        "print(food)"
      ],
      "metadata": {
        "colab": {
          "base_uri": "https://localhost:8080/"
        },
        "id": "ZkxfiX5iVs1T",
        "outputId": "2fb56f17-3731-465a-cc05-21a02e79cc06"
      },
      "execution_count": null,
      "outputs": [
        {
          "output_type": "stream",
          "name": "stdout",
          "text": [
            "Python's favorite food is perl\n"
          ]
        }
      ]
    },
    {
      "cell_type": "code",
      "source": [
        "multiline=''' # 문장 간결 + 문장나눌때 -> \"\"\" 도 상관없음\n",
        "life is too short\n",
        "you need python\n",
        "'''\n",
        "print(multiline)"
      ],
      "metadata": {
        "colab": {
          "base_uri": "https://localhost:8080/"
        },
        "id": "4oQSK9HaWlbN",
        "outputId": "b6ea51e5-0042-4593-9eb9-36c25b1feeee"
      },
      "execution_count": null,
      "outputs": [
        {
          "output_type": "stream",
          "name": "stdout",
          "text": [
            "\n",
            "life is too short\n",
            "you need python\n",
            "\n"
          ]
        }
      ]
    },
    {
      "cell_type": "code",
      "source": [
        "head = \"Python\"\n",
        "tail = \" is fun!\"\n",
        "print(head + tail) #문자열 합치기\n",
        "print(head * 2) # 문자열 연산\n",
        "len(head + tail) # 길이\n",
        "head[3] # head 의 3위치에 있는 문자  (파이썬은 0부터 센다)\n",
        "head[-2] # 0은 똑같고 그 뒤부터 셈"
      ],
      "metadata": {
        "colab": {
          "base_uri": "https://localhost:8080/",
          "height": 73
        },
        "id": "wpZ3UeZRW204",
        "outputId": "18215198-9812-4569-dd4c-35412d60a92b"
      },
      "execution_count": null,
      "outputs": [
        {
          "output_type": "stream",
          "name": "stdout",
          "text": [
            "Python is fun!\n",
            "PythonPython\n"
          ]
        },
        {
          "output_type": "execute_result",
          "data": {
            "text/plain": [
              "'o'"
            ],
            "application/vnd.google.colaboratory.intrinsic+json": {
              "type": "string"
            }
          },
          "metadata": {},
          "execution_count": 25
        }
      ]
    },
    {
      "cell_type": "code",
      "source": [
        "a = \"Life is too short, You need Python\"\n",
        "a[0:4] #슬라이싱, 이때 끝번호는 포함 안함\n",
        "a[:4] # 생략시 0부터 혹은 끝까지\n",
        "\n",
        "\n"
      ],
      "metadata": {
        "colab": {
          "base_uri": "https://localhost:8080/",
          "height": 36
        },
        "id": "YNAdkHwJYB9e",
        "outputId": "9356927c-e7a4-4b03-8c03-e858954f9d63"
      },
      "execution_count": null,
      "outputs": [
        {
          "output_type": "execute_result",
          "data": {
            "text/plain": [
              "'Life'"
            ],
            "application/vnd.google.colaboratory.intrinsic+json": {
              "type": "string"
            }
          },
          "metadata": {},
          "execution_count": 27
        }
      ]
    },
    {
      "cell_type": "code",
      "source": [
        "A = \"20230331Rainy\" #슬라이싱 응용\n",
        "year = A[:4]\n",
        "day = A[4:8]\n",
        "weather = A[8:]\n",
        "print(year)\n",
        "print(day)\n",
        "print(weather)"
      ],
      "metadata": {
        "colab": {
          "base_uri": "https://localhost:8080/"
        },
        "id": "MuE8xssZZy6R",
        "outputId": "e1fae4e5-0470-487f-c844-a827b0e7b7f5"
      },
      "execution_count": null,
      "outputs": [
        {
          "output_type": "stream",
          "name": "stdout",
          "text": [
            "2023\n",
            "0331\n",
            "Rainy\n"
          ]
        }
      ]
    },
    {
      "cell_type": "code",
      "source": [
        "number = 10\n",
        "day = \"three\"\n",
        "\"I ate %d apples. so I was sick for %s days\" % (number, day) # 숫자 %d, 문자 %s\n",
        "\"%10s\" % \"hi\" # 10개 공간 중 오른쪽 정렬 후 공백 남김 반대는 %-10s\n",
        "\"%0.4f\" % 3.41234234 # 소수점 넷째까지 '.4f' 소수점공식\n",
        "\"%10.4f\" % 3.41234  # 10개 공간, 소숫점 넷째까지\n"
      ],
      "metadata": {
        "colab": {
          "base_uri": "https://localhost:8080/",
          "height": 36
        },
        "id": "iOykL8W-aRZW",
        "outputId": "fcaf51cf-4251-4680-b57b-f2df3a6d6d67"
      },
      "execution_count": null,
      "outputs": [
        {
          "output_type": "execute_result",
          "data": {
            "text/plain": [
              "'3.4123'"
            ],
            "application/vnd.google.colaboratory.intrinsic+json": {
              "type": "string"
            }
          },
          "metadata": {},
          "execution_count": 33
        }
      ]
    },
    {
      "cell_type": "code",
      "source": [
        "\"I ate {0} apples. so I was sick for {day} days.\".format(10, day=3) #format 사용 - {}\n"
      ],
      "metadata": {
        "colab": {
          "base_uri": "https://localhost:8080/",
          "height": 36
        },
        "id": "0Qht8BB5ciLH",
        "outputId": "2d4be0a6-5297-4d05-c6ae-dcdafae9b99b"
      },
      "execution_count": null,
      "outputs": [
        {
          "output_type": "execute_result",
          "data": {
            "text/plain": [
              "'I ate 10 apples. so I was sick for 3 days.'"
            ],
            "application/vnd.google.colaboratory.intrinsic+json": {
              "type": "string"
            }
          },
          "metadata": {},
          "execution_count": 35
        }
      ]
    },
    {
      "cell_type": "code",
      "source": [
        "\"{0:<10}\".format(\"hi\") #왼쪽 정렬\n",
        "\"{0:>10}\".format(\"hi\") #오른쪽 정렬\n",
        "\"{0:^10}\".format(\"hi\") # 가운데 정렬\n",
        "\"{0:=^10}\".format(\"hi\") # 공백 채우기\n",
        "# format 대신 f 사용가능\n"
      ],
      "metadata": {
        "colab": {
          "base_uri": "https://localhost:8080/",
          "height": 36
        },
        "id": "v4imoyN4bn3z",
        "outputId": "45274134-658b-4ab9-c2d5-495287cf112b"
      },
      "execution_count": null,
      "outputs": [
        {
          "output_type": "execute_result",
          "data": {
            "text/plain": [
              "'====hi===='"
            ],
            "application/vnd.google.colaboratory.intrinsic+json": {
              "type": "string"
            }
          },
          "metadata": {},
          "execution_count": 38
        }
      ]
    },
    {
      "cell_type": "code",
      "source": [
        "d = {'name':'홍길동', 'age':30}\n",
        "f'나의 이름은 {d[\"name\"]}입니다. 나이는 {d[\"age\"]}입니다.' #f 포메팅\n",
        "\n"
      ],
      "metadata": {
        "colab": {
          "base_uri": "https://localhost:8080/",
          "height": 36
        },
        "id": "M6E0f663fXxR",
        "outputId": "18277444-7a60-4408-a58d-8fbc17c0ff4d"
      },
      "execution_count": null,
      "outputs": [
        {
          "output_type": "execute_result",
          "data": {
            "text/plain": [
              "'나의 이름은 홍길동입니다. 나이는 30입니다.'"
            ],
            "application/vnd.google.colaboratory.intrinsic+json": {
              "type": "string"
            }
          },
          "metadata": {},
          "execution_count": 39
        }
      ]
    },
    {
      "cell_type": "code",
      "source": [
        "a = \"Python is the best choice\"\n",
        "a.find('b')\n",
        "a.find('k')\n",
        "a.count('b')\n",
        "a.index('t')"
      ],
      "metadata": {
        "colab": {
          "base_uri": "https://localhost:8080/"
        },
        "id": "rF8ZalF3ftyI",
        "outputId": "8478613e-7d85-4baf-d3c2-26df8656257c"
      },
      "execution_count": null,
      "outputs": [
        {
          "output_type": "execute_result",
          "data": {
            "text/plain": [
              "2"
            ]
          },
          "metadata": {},
          "execution_count": 42
        }
      ]
    },
    {
      "cell_type": "code",
      "source": [
        "a = \" hi \"\n",
        "a.lstrip() # 왼쪽 공백 지우기\n",
        "a.rstrip() # 오른쪽 공백 지우기\n",
        "a.strip() # 공백 지우기\n"
      ],
      "metadata": {
        "colab": {
          "base_uri": "https://localhost:8080/",
          "height": 36
        },
        "id": "whhCk8aagKdr",
        "outputId": "6b408330-1979-4269-f0a8-2feb50cbfad1"
      },
      "execution_count": null,
      "outputs": [
        {
          "output_type": "execute_result",
          "data": {
            "text/plain": [
              "'hi'"
            ],
            "application/vnd.google.colaboratory.intrinsic+json": {
              "type": "string"
            }
          },
          "metadata": {},
          "execution_count": 46
        }
      ]
    },
    {
      "cell_type": "code",
      "source": [
        "a = \"Life is too short\"\n",
        "a.replace(\"Life\", \"Your leg\") #문자열 바꾸기 (바꿀대상, 바꿀내용)\n",
        "a.split() # 문자열 나누\n",
        "\n"
      ],
      "metadata": {
        "colab": {
          "base_uri": "https://localhost:8080/"
        },
        "id": "swHP_f55gfpb",
        "outputId": "541d305e-a11c-4713-ed09-cde18533f489"
      },
      "execution_count": null,
      "outputs": [
        {
          "output_type": "execute_result",
          "data": {
            "text/plain": [
              "['Life', 'is', 'too', 'short']"
            ]
          },
          "metadata": {},
          "execution_count": 48
        }
      ]
    },
    {
      "cell_type": "code",
      "source": [
        "a = []\n",
        "b = [1, 2, 3]\n",
        "c = ['Life', 'is', 'too', 'short']\n",
        "d = [1, 2, 'Life', 'is']\n",
        "e = [1, 2, ['Life', 'is']]\n",
        "b[0] + b [2] #0번째 요솟값+ 2번째 요솟값\n",
        "e[-1] # [] 안에 있는건 하나로 침\n",
        "e[-1][0] # [] 안에 걸 끄집어 내려면 2개쓰\n",
        "b[0:2] # 슬라이싱"
      ],
      "metadata": {
        "colab": {
          "base_uri": "https://localhost:8080/"
        },
        "id": "8Pk0lO02gvPE",
        "outputId": "e406a3f9-5ec4-4157-81b0-014338243000"
      },
      "execution_count": null,
      "outputs": [
        {
          "output_type": "execute_result",
          "data": {
            "text/plain": [
              "[1, 2]"
            ]
          },
          "metadata": {},
          "execution_count": 56
        }
      ]
    },
    {
      "cell_type": "code",
      "source": [
        "a = [1, 2, 3]\n",
        "b = [4, 5, 6]\n",
        "a + b\n",
        "len(a)\n",
        "str(a[2]) + \"hi\" #str은 정수나 실수를 문자열로 바꿔줌\n",
        "del a [1] # 삭제\n",
        "a.append(4) # 리스트 맨뒤에 추가하는 함수\n",
        "a.sort() # 순서대로 리스트 정리\n",
        "a.reverse () # 리스트 역순으로 뒤집\n",
        "a.index(4) # () 이 수의 위칫값 나타냄\n",
        "a.insert(0, 4) # 0번쨰 위치에 4 삽입\n",
        "a.remove(3) # 첫번째로 나오는 3 삭제\n",
        "a.pop() # 마지막 요소 리턴후 삭제, ()에 위칫값 넣으면 그 위치에 요소 리턴하고 삭제\n",
        "a.count() # () 안에 요소 개수\n",
        "a.extend([5, 6]) # 리스트 5, 6 추가해서 확장"
      ],
      "metadata": {
        "colab": {
          "base_uri": "https://localhost:8080/"
        },
        "id": "PHzUrCMIkIXT",
        "outputId": "5d54c116-a8bc-4285-b258-84128e56da0d"
      },
      "execution_count": null,
      "outputs": [
        {
          "output_type": "execute_result",
          "data": {
            "text/plain": [
              "0"
            ]
          },
          "metadata": {},
          "execution_count": 64
        }
      ]
    },
    {
      "cell_type": "markdown",
      "source": [
        "### 1주차 정리\n",
        "슬라이싱 [:10]\n",
        "\n",
        "'.4f' 소수점공식\n",
        "\n",
        "f'나의 이름은 {d[\"name\"]}입니다. 나이는 {d[\"age\"]}입니다.' #f 포메팅\n",
        "\n",
        "a.strip() # 공백 지우기\n",
        "\n",
        "a.split() # 문자열 나누\n",
        "\n",
        "a.replace(\"Life\", \"Your leg\") #문자열 바꾸기 (바꿀대상, 바꿀내용)\n",
        "\n",
        "len(a) # 길이\n",
        "\n",
        "str(a[2]) + \"hi\" #str은 정수나 실수를 문자열로 바꿔줌\n",
        "\n",
        "del a [1] # 삭제\n",
        "\n",
        "a.append(4) # 리스트 맨뒤에 추가하는 함수\n",
        "\n",
        "a.sort() # 순서대로 리스트 정리\n",
        "\n",
        "a.reverse () # 리스트 역순으로 뒤집\n",
        "\n",
        "a.index(4) # () 이 수의 위칫값 나타냄\n",
        "\n",
        "a.insert(0, 4) # 0번쨰 위치에 4 삽입\n",
        "\n",
        "a.remove(3) # 첫번째로 나오는 3 삭제\n",
        "\n",
        "a.pop() # 마지막 요소 리턴후 삭제, ()에 위칫값 넣으면 그 위치에 요소 리턴하고 삭제\n",
        "\n",
        "a.count() # () 안에 요소 개수\n",
        "\n",
        "a.extend([5, 6]) # 리스트 5, 6 추가해서 확장"
      ],
      "metadata": {
        "id": "w9tX8f9ioZI6"
      }
    }
  ]
}